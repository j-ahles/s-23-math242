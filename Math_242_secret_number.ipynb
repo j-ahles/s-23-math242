{
  "nbformat": 4,
  "nbformat_minor": 0,
  "metadata": {
    "colab": {
      "name": "Math_242_secret_number.ipynb",
      "provenance": [],
      "include_colab_link": true
    },
    "kernelspec": {
      "name": "python3",
      "display_name": "Python 3"
    }
  },
  "cells": [
    {
      "cell_type": "markdown",
      "metadata": {
        "id": "view-in-github",
        "colab_type": "text"
      },
      "source": [
        "<a href=\"https://colab.research.google.com/github/j-ahles/s-23-math242/blob/main/Math_242_secret_number.ipynb\" target=\"_parent\"><img src=\"https://colab.research.google.com/assets/colab-badge.svg\" alt=\"Open In Colab\"/></a>"
      ]
    },
    {
      "cell_type": "markdown",
      "metadata": {
        "id": "Ry_o-kLL_-wf"
      },
      "source": [
        "# Load the preliminary code"
      ]
    },
    {
      "cell_type": "code",
      "metadata": {
        "id": "dhOLtwrRRc9S"
      },
      "source": [
        "import matplotlib.pyplot as plt\n",
        "from sympy import Poly\n",
        "import sympy as sym\n",
        "import numpy as np\n",
        "from numpy import c_\n",
        "\n",
        "# We'll specify that x and t are variables:\n",
        "x, t = sym.symbols('x, t')\n",
        "\n",
        "ll = \"loaded\""
      ],
      "execution_count": 1,
      "outputs": []
    },
    {
      "cell_type": "code",
      "metadata": {
        "id": "AHRXKhal_Wcj",
        "colab": {
          "base_uri": "https://localhost:8080/"
        },
        "outputId": "2ae403ce-e19b-42ca-e560-0ec5f7e7255e"
      },
      "source": [
        "lll = \" correctly!\"\n",
        "\n",
        "def rref(matrix):\n",
        "    A = np.array(matrix, dtype=np.float64)\n",
        "    \n",
        "    r = 0 #row\n",
        "    c = 0 #column\n",
        "\n",
        "    (maxr, maxc) = A.shape\n",
        "\n",
        "    prev_row_pivot = -1   # The previous row with a leading term:\n",
        "    tmp_pivot_row = -1\n",
        "    this_pivot_row = -1\n",
        "\n",
        "    for c in range(maxc):  # go through each column\n",
        "      tmp_pivot_row = -1  # reset the tmp pivot row\n",
        "      this_pivot_row = -1  # reset this pivot row\n",
        "      for r in range(maxr):  # Find the leading term in this column below prev_row_pivot\n",
        "        if ((r > prev_row_pivot) and (A[r][c] != 0.0)):\n",
        "          tmp_pivot_row = r  # find the new pivot row\n",
        "      if (tmp_pivot_row > -1):  # we found a candidate for the leading term:\n",
        "        #swap row this_pivot_row with (prev_row_pivot + 1)\n",
        "        A[[tmp_pivot_row, prev_row_pivot+1]] = A[[prev_row_pivot + 1, tmp_pivot_row]]\n",
        "        #set this_pivot_row to prev_row_pivot+1\n",
        "        this_pivot_row = prev_row_pivot + 1\n",
        "        #Now, normalize the row based on the pivot value:\n",
        "        A[ this_pivot_row ] = A[ this_pivot_row ] / A[ this_pivot_row ][c]\n",
        "        #Then, use this row to force 0's above and below the pivot entry:\n",
        "        #subtract multiples of of the this_pivot_row row from the others\n",
        "        for r_ in range(len(A)):\n",
        "            if r_ != this_pivot_row:\n",
        "                A[r_] = A[r_] - A[this_pivot_row] * A[r_][c] / A[this_pivot_row][c]\n",
        "        prev_row_pivot = this_pivot_row\n",
        "    return A    \n",
        "    \n",
        "    \n",
        "\n",
        "print(\">> The page \", ll, lll)"
      ],
      "execution_count": 2,
      "outputs": [
        {
          "output_type": "stream",
          "name": "stdout",
          "text": [
            ">> The page  loaded  correctly!\n"
          ]
        }
      ]
    },
    {
      "cell_type": "markdown",
      "metadata": {
        "id": "xVLAg1tp7aJX"
      },
      "source": [
        "# Set up the secret number"
      ]
    },
    {
      "cell_type": "markdown",
      "metadata": {
        "id": "2c12Csd440sV"
      },
      "source": [
        "You'll encode a secret number $s$ into a 4th or 5th degree polynomial as its vertical intercept.\n",
        "\n",
        "Once you've chosen $s$, then create a 4th or 5th degree polynomial $f$ such that the vertical intercept is $s$.\n"
      ]
    },
    {
      "cell_type": "code",
      "metadata": {
        "id": "bSeZFmS4vQWk",
        "colab": {
          "base_uri": "https://localhost:8080/",
          "height": 39
        },
        "outputId": "2f0951d6-e119-41f5-8e03-673f0a987567"
      },
      "source": [
        "# the secret number is s:\n",
        "\n",
        "s = 14\n",
        "\n",
        "p = Poly(14+2*x + 3*x**18, x, domain='RR')\n",
        "\n",
        "p"
      ],
      "execution_count": null,
      "outputs": [
        {
          "output_type": "execute_result",
          "data": {
            "text/plain": [
              "Poly(3.0*x**18 + 2.0*x + 14.0, x, domain='RR')"
            ],
            "text/latex": "$\\displaystyle \\operatorname{Poly}{\\left( 3.0 x^{18} + 2.0 x + 14.0, x, domain=\\mathbb{R} \\right)}$"
          },
          "metadata": {},
          "execution_count": 18
        }
      ]
    },
    {
      "cell_type": "code",
      "metadata": {
        "id": "buHLWqEJ5Hds",
        "colab": {
          "base_uri": "https://localhost:8080/",
          "height": 37
        },
        "outputId": "8cee7d60-5080-40c7-9c6c-31c375990c3c"
      },
      "source": [
        "#  Change this to evaluate the polynomial at 0:\n",
        "p.eval(x, 2.1)\n",
        "\n",
        "# Check that this is your secret number:"
      ],
      "execution_count": null,
      "outputs": [
        {
          "output_type": "execute_result",
          "data": {
            "text/plain": [
              "1892660.57719015"
            ],
            "text/latex": "$\\displaystyle 1892660.57719015$"
          },
          "metadata": {},
          "execution_count": 19
        }
      ]
    },
    {
      "cell_type": "markdown",
      "metadata": {
        "id": "ls3V1Lrnyr2P"
      },
      "source": [
        "# Generate your data points\n",
        "\n",
        "Use this code to generate the data points for your polynomial.  Write the data on the second page of your handout.  \n",
        "\n",
        "Writing \n",
        "\n",
        "```\n",
        "p.eval(x, 3)\n",
        "```\n",
        "\n",
        "will evaluate $p$ when $x = 3$.  Just change the $3$ to any value to evaluate $p$ at that input.\n",
        "\n",
        "Remember:  Keep your secret number and polynomial hidden."
      ]
    },
    {
      "cell_type": "code",
      "metadata": {
        "id": "5Ef1euoHynYu",
        "colab": {
          "base_uri": "https://localhost:8080/",
          "height": 37
        },
        "outputId": "d30f2a1f-7187-4c9b-c33e-5c1c8d936581"
      },
      "source": [
        "p.eval(x, 3)"
      ],
      "execution_count": null,
      "outputs": [
        {
          "output_type": "execute_result",
          "data": {
            "text/plain": [
              "1162261487.00000"
            ],
            "text/latex": "$\\displaystyle 1162261487.0$"
          },
          "metadata": {},
          "execution_count": 20
        }
      ]
    },
    {
      "cell_type": "markdown",
      "metadata": {
        "id": "a6e9mXs-z3qV"
      },
      "source": [
        "#  Decode the polynomial from another group\n",
        "\n",
        "In this section, we set up a linear system to find the polynomial and the secret number which was given to us by another group.\n",
        "\n",
        "First, set up a linear algebra system to find the polynomial on the handout and then enter the matrix here.  You may have to adjust the size of the matrix below to accommodate your data."
      ]
    },
    {
      "cell_type": "code",
      "metadata": {
        "id": "aC4OSnZ20YDh",
        "colab": {
          "base_uri": "https://localhost:8080/"
        },
        "outputId": "21d84caa-963b-4c45-f063-0717760f295a"
      },
      "source": [
        "# create the matrix:\n",
        "A = np.matrix([[(-7.35)**5, (-7.35)**4, (-7.35)**3, (-7.35)**2, (-7.35), 1],\n",
        "               [(1.455)**5, (1.455)**4, (1.455)**3, (1.455)**2, (1.455), 1],\n",
        "               [(8.532)**5, (8.532)**4, (8.532)**3, (8.532)**2, (8.532), 1],\n",
        "               [(-5.728)**5, (-5.728)**4, (-5.728)**3, (-5.728)**2, (-5.728), 1],\n",
        "               [(6.578)**5, (6.578)**4, (6.578)**3, (6.578)**2, (6.578), 1],\n",
        "               [(1)**5, (1)**4, (1)**3, (1)**2, (1), 1],])\n",
        " \n",
        "# create the vector for the right hand side:\n",
        "b = np.matrix([[0], [0], [0], [179.846], [-450.099], [10.85]])\n",
        "\n",
        "#Make sure the system looks appropriate:\n",
        "\n",
        "print(np.c_[A,b])"
      ],
      "execution_count": 3,
      "outputs": [
        {
          "output_type": "stream",
          "name": "stdout",
          "text": [
            "[[-2.14504642e+04  2.91843051e+03 -3.97065375e+02  5.40225000e+01\n",
            "  -7.35000000e+00  1.00000000e+00  0.00000000e+00]\n",
            " [ 6.52101151e+00  4.48179485e+00  3.08027138e+00  2.11702500e+00\n",
            "   1.45500000e+00  1.00000000e+00  0.00000000e+00]\n",
            " [ 4.52120536e+04  5.29911552e+03  6.21087145e+02  7.27950240e+01\n",
            "   8.53200000e+00  1.00000000e+00  0.00000000e+00]\n",
            " [-6.16616365e+03  1.07649505e+03 -1.87935588e+02  3.28099840e+01\n",
            "  -5.72800000e+00  1.00000000e+00  1.79846000e+02]\n",
            " [ 1.23159905e+04  1.87230017e+03  2.84630613e+02  4.32700840e+01\n",
            "   6.57800000e+00  1.00000000e+00 -4.50099000e+02]\n",
            " [ 1.00000000e+00  1.00000000e+00  1.00000000e+00  1.00000000e+00\n",
            "   1.00000000e+00  1.00000000e+00  1.08500000e+01]]\n"
          ]
        }
      ]
    },
    {
      "cell_type": "markdown",
      "metadata": {
        "id": "EDZT8emc5iGZ"
      },
      "source": [
        "##  Solve using Row Operations:\n",
        "\n",
        "We'll solve the augmented matrix  $\\left( A \\, | \\, \\vec{b} \\right)$ using the function\n",
        "\n",
        "```\n",
        "rref(np.c_[A,b])\n",
        "```\n",
        "\n",
        "to provide the reduced row echelon form of the matrix system $\\left(A \\, | \\, \\vec{b} \\right)$.\n"
      ]
    },
    {
      "cell_type": "code",
      "metadata": {
        "id": "9Qhe2zZjYAVL",
        "outputId": "12a303cc-0451-48a2-fecb-bca590411965",
        "colab": {
          "base_uri": "https://localhost:8080/"
        }
      },
      "source": [
        "print(rref(np.c_[A,b]))"
      ],
      "execution_count": 4,
      "outputs": [
        {
          "output_type": "stream",
          "name": "stdout",
          "text": [
            "[[ 1.00000000e+00  0.00000000e+00  0.00000000e+00  0.00000000e+00\n",
            "   0.00000000e+00  0.00000000e+00  5.00012376e-02]\n",
            " [ 0.00000000e+00  1.00000000e+00  0.00000000e+00  0.00000000e+00\n",
            "   0.00000000e+00  0.00000000e+00  1.44705418e-05]\n",
            " [ 0.00000000e+00  0.00000000e+00  1.00000000e+00  0.00000000e+00\n",
            "   0.00000000e+00  0.00000000e+00 -3.20004001e+00]\n",
            " [ 0.00000000e+00  0.00000000e+00  0.00000000e+00  1.00000000e+00\n",
            "   0.00000000e+00  0.00000000e+00 -4.00063879e+00]\n",
            " [-0.00000000e+00 -0.00000000e+00 -0.00000000e+00 -0.00000000e+00\n",
            "   1.00000000e+00  0.00000000e+00 -7.53003556e-04]\n",
            " [ 0.00000000e+00  0.00000000e+00  0.00000000e+00  0.00000000e+00\n",
            "   0.00000000e+00  1.00000000e+00  1.80014161e+01]]\n"
          ]
        }
      ]
    },
    {
      "cell_type": "markdown",
      "metadata": {
        "id": "6xHgTqYr1fuP"
      },
      "source": [
        "## Solve the system using numerical methods:\n",
        "\n",
        "We can also generate a solution using some more advanced numerical linear algebra techniques contained inside Numpy.\n",
        "\n",
        "To solve it this way, use:\n",
        "\n",
        "\n",
        "\n",
        "```\n",
        "np.linalg.solve(A,b)\n",
        "```\n",
        "\n",
        "or\n",
        "\n",
        "```\n",
        "np.linalg.lstsq(A,b,rcond=None)\n",
        "```\n",
        "\n",
        "The first method requires the matrix $A$ to be square.  The second method is a bit more robust, and can work with any size matrix.\n"
      ]
    },
    {
      "cell_type": "code",
      "metadata": {
        "id": "769dXoztlBcx",
        "outputId": "6def8bd1-e407-454d-9201-3d3f2c7c15f4",
        "colab": {
          "base_uri": "https://localhost:8080/"
        }
      },
      "source": [
        "# Solve the system using a numerical linear algebra solution:\n",
        "solve_sol = np.linalg.solve(A,b)\n",
        "\n",
        "print(\"The solution using np.linalg.solve(A,b) is \")\n",
        "print(solve_sol)"
      ],
      "execution_count": 6,
      "outputs": [
        {
          "output_type": "stream",
          "name": "stdout",
          "text": [
            "The solution using np.linalg.solve(A,b) is \n",
            "[[ 5.00012376e-02]\n",
            " [ 1.44705418e-05]\n",
            " [-3.20004001e+00]\n",
            " [-4.00063879e+00]\n",
            " [-7.53003554e-04]\n",
            " [ 1.80014161e+01]]\n"
          ]
        }
      ]
    },
    {
      "cell_type": "code",
      "metadata": {
        "id": "ZEjNcqQvQbYo",
        "outputId": "392fcfd7-e9aa-4003-b81d-fe44d071d0b9",
        "colab": {
          "base_uri": "https://localhost:8080/"
        }
      },
      "source": [
        "# Solve the system using the numerical least squares method:\n",
        "lstsq_sol = np.linalg.lstsq(A,b,rcond=None)\n",
        "\n",
        "print(\"The np.linalg.lstsq(A,b) can work with non-square matrices A\")\n",
        "print(\"It gives back multiple pieces of information:\")\n",
        "print(\"lstsq_sol = \")\n",
        "print(lstsq_sol)\n",
        "\n",
        "print(\"\")\n",
        "print(\"The solution is first piece returned.  lstsq_sol[0] = \")\n",
        "print(lstsq_sol[0])\n"
      ],
      "execution_count": 8,
      "outputs": [
        {
          "output_type": "stream",
          "name": "stdout",
          "text": [
            "The np.linalg.lstsq(A,b) can work with non-square matrices A\n",
            "It gives back multiple pieces of information:\n",
            "lstsq_sol = \n",
            "(matrix([[ 5.00012376e-02],\n",
            "        [ 1.44705418e-05],\n",
            "        [-3.20004001e+00],\n",
            "        [-4.00063879e+00],\n",
            "        [-7.53003557e-04],\n",
            "        [ 1.80014161e+01]]), matrix([], shape=(1, 0), dtype=float64), 6, array([5.20443788e+04, 5.22057245e+03, 1.36849652e+02, 1.86456597e+01,\n",
            "       2.15293862e+00, 2.02974833e-01]))\n",
            "\n",
            "The solution is first piece returned.  lstsq_sol[0] = \n",
            "[[ 5.00012376e-02]\n",
            " [ 1.44705418e-05]\n",
            " [-3.20004001e+00]\n",
            " [-4.00063879e+00]\n",
            " [-7.53003557e-04]\n",
            " [ 1.80014161e+01]]\n"
          ]
        }
      ]
    },
    {
      "cell_type": "code",
      "source": [],
      "metadata": {
        "id": "g95XPHpwy_Re"
      },
      "execution_count": null,
      "outputs": []
    }
  ]
}