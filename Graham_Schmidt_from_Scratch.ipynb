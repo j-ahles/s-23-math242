{
  "nbformat": 4,
  "nbformat_minor": 0,
  "metadata": {
    "colab": {
      "provenance": [],
      "authorship_tag": "ABX9TyPrA7YZjftiDXn8eyIUgdIu",
      "include_colab_link": true
    },
    "kernelspec": {
      "name": "python3",
      "display_name": "Python 3"
    },
    "language_info": {
      "name": "python"
    }
  },
  "cells": [
    {
      "cell_type": "markdown",
      "metadata": {
        "id": "view-in-github",
        "colab_type": "text"
      },
      "source": [
        "<a href=\"https://colab.research.google.com/github/j-ahles/s-23-math242/blob/main/Graham_Schmidt_from_Scratch.ipynb\" target=\"_parent\"><img src=\"https://colab.research.google.com/assets/colab-badge.svg\" alt=\"Open In Colab\"/></a>"
      ]
    },
    {
      "cell_type": "code",
      "execution_count": 2,
      "metadata": {
        "id": "YKj5iwCT0_o2"
      },
      "outputs": [],
      "source": [
        "import matplotlib.pyplot as plt\n",
        "import sympy as sym\n",
        "import numpy as np\n",
        "import matplotlib.pyplot as plt\n",
        "from numpy import c_\n",
        "\n",
        "x, t = sym.symbols('x, t')\n",
        "ll = \"loaded\""
      ]
    },
    {
      "cell_type": "code",
      "source": [],
      "metadata": {
        "id": "VnAl_aWE1cxJ"
      },
      "execution_count": 2,
      "outputs": []
    },
    {
      "cell_type": "markdown",
      "source": [
        "Lets figure out how to do vector operations."
      ],
      "metadata": {
        "id": "66Lqoh4I1rtY"
      }
    },
    {
      "cell_type": "code",
      "source": [
        "#Creating a vector:\n",
        "\n",
        "r1 = np.array([ 3,  0,  3,   0])\n",
        "r2 = np.array([ 3,  2,  3,   2])\n",
        "r3 = np.array([-7, -4, -5,  -6])\n",
        "r4 = np.array([-7, -3, -11,  3])\n",
        "\n",
        "#Dot Products\n",
        "#r1.dot(r1)\n",
        "\n",
        "#Magnitude\n",
        "\n",
        "def mag(v):\n",
        "  return np.sqrt(v.dot(v))\n",
        "\n",
        "r1_mag = mag(r1)\n",
        "r2_mag = mag(r2)\n",
        "\n",
        "#testing if it works\n",
        "print(r2_mag)\n",
        "print(r1_mag)"
      ],
      "metadata": {
        "colab": {
          "base_uri": "https://localhost:8080/"
        },
        "id": "kCCOf7uo1xSK",
        "outputId": "4a01960c-eae0-4e6e-bda1-c3c576964edc"
      },
      "execution_count": 3,
      "outputs": [
        {
          "output_type": "stream",
          "name": "stdout",
          "text": [
            "5.0990195135927845\n",
            "4.242640687119285\n"
          ]
        }
      ]
    },
    {
      "cell_type": "markdown",
      "source": [
        "## Process for $r_{1}$"
      ],
      "metadata": {
        "id": "EjFXw4135zhf"
      }
    },
    {
      "cell_type": "code",
      "source": [
        "#Define the firsst vector as an basis vector\n",
        "t1 = r1\n",
        "t1_mag = mag(t1)\n",
        "\n",
        "#making it a unit vector\n",
        "u1 = t1/mag(t1)\n",
        "\n",
        "print(\"The size of u1 is \",  mag(u1), \"so the vector u1 , \", u1, \" is unit vector 1\")\n"
      ],
      "metadata": {
        "colab": {
          "base_uri": "https://localhost:8080/"
        },
        "id": "gmZAAk9357km",
        "outputId": "1b4ac64b-58a4-40b5-d62e-b4c8e749451e"
      },
      "execution_count": 4,
      "outputs": [
        {
          "output_type": "stream",
          "name": "stdout",
          "text": [
            "The size of u1 is  1.0 so the vector u1 ,  [0.70710678 0.         0.70710678 0.        ]  is unit vector 1\n"
          ]
        }
      ]
    },
    {
      "cell_type": "markdown",
      "source": [
        "Process for $r_{2}$"
      ],
      "metadata": {
        "id": "l7q70qEH7hBo"
      }
    },
    {
      "cell_type": "code",
      "source": [
        "#defining the second vector without the orthogonal parts\n",
        "t2 = r2 - (r2.dot(u1))*u1\n",
        "\n",
        "#define it as a unit vector\n",
        "u2 = t2/mag(t2)\n",
        "\n",
        "print(\"The size of u2 is \",  mag(u2).round(7), \"so the vector u2 , \", u2.round(7), \" is unit vector 2\")"
      ],
      "metadata": {
        "colab": {
          "base_uri": "https://localhost:8080/"
        },
        "id": "Fr65lhLN7l8D",
        "outputId": "d4b455a5-6d1e-4165-c0b0-78c0ca0ef2fb"
      },
      "execution_count": 18,
      "outputs": [
        {
          "output_type": "stream",
          "name": "stdout",
          "text": [
            "The size of u2 is  1.0 so the vector u2 ,  [-0.         0.7071068 -0.         0.7071068]  is unit vector 2\n"
          ]
        }
      ]
    },
    {
      "cell_type": "code",
      "source": [
        "#defining the third vector without the orthogonal parts\n",
        "t3 = r3 - (r3.dot(u1))*u1 -(r3.dot(u2))*u2\n",
        "#define it as a unit vector\n",
        "u3 = t3/mag(t3)\n",
        "\n",
        "print(\"The size of u3 is \",  mag(u3), \"so the vector u3 , \", u3, \" is unit vector 3\")\n",
        "\n",
        "#defining the fourth vector without the orthogonal parts\n",
        "t4 = r4 - (r4.dot(u1))*u1 - (r3.dot(u2))*u2 - (r3.dot(u3))*u3\n",
        "#define it as a unit vector\n",
        "u4 = t4/mag(t4)\n",
        "\n",
        "print(\"The size of u4 is \",  mag(u4), \"so the vector u4 , \", u4, \" is unit vector 4\")"
      ],
      "metadata": {
        "colab": {
          "base_uri": "https://localhost:8080/"
        },
        "id": "DdlLQeiJ8HPM",
        "outputId": "d24d93d1-38a5-4485-a3c6-f93d1134d7ea"
      },
      "execution_count": 17,
      "outputs": [
        {
          "output_type": "stream",
          "name": "stdout",
          "text": [
            "The size of u3 is  1.0 so the vector u3 ,  [-0.5  0.5  0.5 -0.5]  is unit vector 3\n",
            "The size of u4 is  1.0 so the vector u4 ,  [ 0.3  0.1 -0.3  0.9]  is unit vector 4\n"
          ]
        }
      ]
    },
    {
      "cell_type": "code",
      "source": [],
      "metadata": {
        "id": "majUnXgr5V5I"
      },
      "execution_count": null,
      "outputs": []
    },
    {
      "cell_type": "markdown",
      "source": [
        "Therefore for the vectors given, the orthonormal basis is "
      ],
      "metadata": {
        "id": "IXQhQNYh508n"
      }
    },
    {
      "cell_type": "code",
      "source": [
        "print(u1, \" \", u2.round(7), \" \", u3, \" \", u4)"
      ],
      "metadata": {
        "colab": {
          "base_uri": "https://localhost:8080/"
        },
        "id": "HUim976H56yC",
        "outputId": "862fc545-1358-43fd-e11d-110b76d07424"
      },
      "execution_count": 24,
      "outputs": [
        {
          "output_type": "stream",
          "name": "stdout",
          "text": [
            "[0.70710678 0.         0.70710678 0.        ]   [-0.         0.7071068 -0.         0.7071068]   [-0.5  0.5  0.5 -0.5]   [ 0.3  0.1 -0.3  0.9]\n"
          ]
        }
      ]
    },
    {
      "cell_type": "code",
      "source": [],
      "metadata": {
        "id": "inIl6d_B6C-R"
      },
      "execution_count": null,
      "outputs": []
    }
  ]
}