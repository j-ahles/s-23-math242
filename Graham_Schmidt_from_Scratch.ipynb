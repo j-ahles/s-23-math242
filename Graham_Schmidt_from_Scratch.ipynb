{
  "nbformat": 4,
  "nbformat_minor": 0,
  "metadata": {
    "colab": {
      "provenance": [],
      "authorship_tag": "ABX9TyPjns92aMSn9JhFQDBom7PM",
      "include_colab_link": true
    },
    "kernelspec": {
      "name": "python3",
      "display_name": "Python 3"
    },
    "language_info": {
      "name": "python"
    }
  },
  "cells": [
    {
      "cell_type": "markdown",
      "metadata": {
        "id": "view-in-github",
        "colab_type": "text"
      },
      "source": [
        "<a href=\"https://colab.research.google.com/github/j-ahles/s-23-math242/blob/main/Graham_Schmidt_from_Scratch.ipynb\" target=\"_parent\"><img src=\"https://colab.research.google.com/assets/colab-badge.svg\" alt=\"Open In Colab\"/></a>"
      ]
    },
    {
      "cell_type": "code",
      "execution_count": 2,
      "metadata": {
        "id": "YKj5iwCT0_o2"
      },
      "outputs": [],
      "source": [
        "import matplotlib.pyplot as plt\n",
        "import sympy as sym\n",
        "import numpy as np\n",
        "import matplotlib.pyplot as plt\n",
        "from numpy import c_\n",
        "\n",
        "x, t = sym.symbols('x, t')\n",
        "ll = \"loaded\""
      ]
    },
    {
      "cell_type": "code",
      "source": [],
      "metadata": {
        "colab": {
          "base_uri": "https://localhost:8080/",
          "height": 134
        },
        "id": "VnAl_aWE1cxJ",
        "outputId": "3e4bcfef-e015-4c6a-94f2-8b3d900e7beb"
      },
      "execution_count": 3,
      "outputs": [
        {
          "output_type": "error",
          "ename": "SyntaxError",
          "evalue": "ignored",
          "traceback": [
            "\u001b[0;36m  File \u001b[0;32m\"<ipython-input-3-a32a8cc20142>\"\u001b[0;36m, line \u001b[0;32m1\u001b[0m\n\u001b[0;31m    Lets figure out how to do vector operations.\u001b[0m\n\u001b[0m         ^\u001b[0m\n\u001b[0;31mSyntaxError\u001b[0m\u001b[0;31m:\u001b[0m invalid syntax\n"
          ]
        }
      ]
    },
    {
      "cell_type": "markdown",
      "source": [
        "Lets figure out how to do vector operations."
      ],
      "metadata": {
        "id": "66Lqoh4I1rtY"
      }
    },
    {
      "cell_type": "code",
      "source": [
        "#Creating a vector:\n",
        "\n",
        "r1 = np.array([ 3,  0,  3,   0])\n",
        "r2 = np.array([ 3,  2,  3,   2])\n",
        "r3 = np.array([-7, -4, -5,  -6])\n",
        "r4 = np.array([-7, -3, -11,  3])\n",
        "\n",
        "#Dot Products\n",
        "#r1.dot(r1)\n",
        "\n",
        "#Magnitude\n",
        "\n",
        "def mag(v):\n",
        "  return np.sqrt(v.dot(v))\n",
        "\n",
        "r1_mag = mag(r1)\n",
        "r2_mag = mag(r2)\n",
        "\n",
        "#testing if it works\n",
        "print(r2_mag)\n",
        "print(r1_mag)"
      ],
      "metadata": {
        "colab": {
          "base_uri": "https://localhost:8080/"
        },
        "id": "kCCOf7uo1xSK",
        "outputId": "5b873219-3dc9-4bfb-c36f-6dd0f050d0d7"
      },
      "execution_count": 20,
      "outputs": [
        {
          "output_type": "stream",
          "name": "stdout",
          "text": [
            "5.0990195135927845\n",
            "4.242640687119285\n"
          ]
        }
      ]
    },
    {
      "cell_type": "markdown",
      "source": [
        "## Process for $r_{1}$"
      ],
      "metadata": {
        "id": "EjFXw4135zhf"
      }
    },
    {
      "cell_type": "code",
      "source": [
        "#Define the firsst vector as an basis vector\n",
        "t1 = r1\n",
        "t1_mag = mag(t1)\n",
        "\n",
        "#making it a unit vector\n",
        "u1 = t1/mag(t1)\n",
        "\n",
        "print(\"The size of u1 is \",  mag(u1), \"so the vector u1 , \", u1, \" is unit vector 1\")\n"
      ],
      "metadata": {
        "colab": {
          "base_uri": "https://localhost:8080/"
        },
        "id": "gmZAAk9357km",
        "outputId": "2e3721c9-4b9a-4e30-cbc7-fe64b5cab29a"
      },
      "execution_count": 23,
      "outputs": [
        {
          "output_type": "stream",
          "name": "stdout",
          "text": [
            "The size of u1 is  1.0 so the vector u1 ,  [0.70710678 0.         0.70710678 0.        ]  is unit vector 1\n"
          ]
        }
      ]
    },
    {
      "cell_type": "markdown",
      "source": [
        "Process for $r_{2}$"
      ],
      "metadata": {
        "id": "l7q70qEH7hBo"
      }
    },
    {
      "cell_type": "code",
      "source": [
        "#defining the second vector without the orthogonal parts\n",
        "t2 = r2 - (r2.dot(u1))*u1\n",
        "\n",
        "#define it as a unit vector\n",
        "u2 = t2/mag(t2)\n",
        "\n",
        "print(\"The size of u1 is \",  mag(u2).round(), \"so the vector u1 , \", u2.round(7), \" is unit vector 2\")"
      ],
      "metadata": {
        "colab": {
          "base_uri": "https://localhost:8080/"
        },
        "id": "Fr65lhLN7l8D",
        "outputId": "d80d242f-a050-48d2-ca2c-23fadd6fdb44"
      },
      "execution_count": 36,
      "outputs": [
        {
          "output_type": "stream",
          "name": "stdout",
          "text": [
            "The size of u1 is  1.0 so the vector u1 ,  [-0.         0.7071068 -0.         0.7071068]  is unit vector 2\n"
          ]
        }
      ]
    },
    {
      "cell_type": "code",
      "source": [],
      "metadata": {
        "id": "DdlLQeiJ8HPM"
      },
      "execution_count": null,
      "outputs": []
    }
  ]
}